{
  "nbformat": 4,
  "nbformat_minor": 0,
  "metadata": {
    "colab": {
      "provenance": []
    },
    "kernelspec": {
      "name": "python3",
      "display_name": "Python 3"
    },
    "language_info": {
      "name": "python"
    }
  },
  "cells": [
    {
      "cell_type": "code",
      "execution_count": 9,
      "metadata": {
        "id": "pAi-HdB8rJUS"
      },
      "outputs": [],
      "source": [
        "import joblib\n",
        "\n",
        "# Load the pipeline (which includes vectorization and model)\n",
        "pipe = joblib.load('model.pkl')\n",
        "\n",
        "# Define prediction function\n",
        "def predictive_system(review):\n",
        "    prediction = pipe.predict([review])  # No need for tokenizer\n",
        "    sentiment = 'positive' if prediction[0] == 1 else 'negative'\n",
        "    return sentiment"
      ]
    },
    {
      "cell_type": "code",
      "source": [
        "review_sentiment = predictive_system(\"Very exciting movie but acting not good\")\n",
        "print(\"Predicted Sentiment:\", review_sentiment)"
      ],
      "metadata": {
        "colab": {
          "base_uri": "https://localhost:8080/"
        },
        "id": "4cQnSDBAPTxi",
        "outputId": "2ae927e7-15b2-49f4-80a5-0f74edbeecec"
      },
      "execution_count": 10,
      "outputs": [
        {
          "output_type": "stream",
          "name": "stdout",
          "text": [
            "Predicted Sentiment: negative\n"
          ]
        }
      ]
    },
    {
      "cell_type": "code",
      "source": [
        "review_sentiment = predictive_system(\"average movie, one time watch\")\n",
        "print(\"Predicted Sentiment:\", review_sentiment)"
      ],
      "metadata": {
        "colab": {
          "base_uri": "https://localhost:8080/"
        },
        "id": "zx6k8EVFPneA",
        "outputId": "306e7493-c56c-4b2f-d8f8-d0251e4a6c74"
      },
      "execution_count": 11,
      "outputs": [
        {
          "output_type": "stream",
          "name": "stdout",
          "text": [
            "Predicted Sentiment: negative\n"
          ]
        }
      ]
    },
    {
      "cell_type": "code",
      "source": [
        "review_sentiment = predictive_system(\"good movie\")\n",
        "print(\"Predicted Sentiment:\", review_sentiment)"
      ],
      "metadata": {
        "colab": {
          "base_uri": "https://localhost:8080/"
        },
        "id": "v-tK98XZPsLf",
        "outputId": "73a2187a-7a00-45b3-a233-bc7e6c31f790"
      },
      "execution_count": 12,
      "outputs": [
        {
          "output_type": "stream",
          "name": "stdout",
          "text": [
            "Predicted Sentiment: positive\n"
          ]
        }
      ]
    },
    {
      "cell_type": "code",
      "source": [
        "import gradio as gr\n",
        "title = 'movie Sentiment Analysis application'\n",
        "app = gr.Interface(fn = predictive_system, inputs = 'text', outputs = 'text', title = title)\n",
        "app.launch(share= True)"
      ],
      "metadata": {
        "colab": {
          "base_uri": "https://localhost:8080/",
          "height": 610
        },
        "id": "VFKt7CAdQXgv",
        "outputId": "5ff41bc3-dfaf-4cbc-edbf-6cee35751b01"
      },
      "execution_count": 16,
      "outputs": [
        {
          "output_type": "stream",
          "name": "stdout",
          "text": [
            "Colab notebook detected. To show errors in colab notebook, set debug=True in launch()\n",
            "* Running on public URL: https://1348d0389a90991e76.gradio.live\n",
            "\n",
            "This share link expires in 72 hours. For free permanent hosting and GPU upgrades, run `gradio deploy` from the terminal in the working directory to deploy to Hugging Face Spaces (https://huggingface.co/spaces)\n"
          ]
        },
        {
          "output_type": "display_data",
          "data": {
            "text/plain": [
              "<IPython.core.display.HTML object>"
            ],
            "text/html": [
              "<div><iframe src=\"https://1348d0389a90991e76.gradio.live\" width=\"100%\" height=\"500\" allow=\"autoplay; camera; microphone; clipboard-read; clipboard-write;\" frameborder=\"0\" allowfullscreen></iframe></div>"
            ]
          },
          "metadata": {}
        },
        {
          "output_type": "execute_result",
          "data": {
            "text/plain": []
          },
          "metadata": {},
          "execution_count": 16
        }
      ]
    }
  ]
}